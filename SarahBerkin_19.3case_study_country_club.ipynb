{
 "cells": [
  {
   "cell_type": "code",
   "execution_count": 241,
   "id": "f12a416a-dc61-4754-8747-55a2321993e0",
   "metadata": {},
   "outputs": [],
   "source": [
    "from sqlalchemy import create_engine, text\n",
    "from sqlalchemy import inspect\n",
    "import pandas as pd"
   ]
  },
  {
   "cell_type": "code",
   "execution_count": 243,
   "id": "f00ea6f7-05ea-413c-afbd-d9faff5aca49",
   "metadata": {},
   "outputs": [],
   "source": [
    "engine = create_engine('sqlite:////Users/sarahberkin/Desktop/sqlite_db_pythonsqlite.db')"
   ]
  },
  {
   "cell_type": "code",
   "execution_count": 245,
   "id": "ab3f534e-8742-46e2-9828-5d0fa11eb6a0",
   "metadata": {},
   "outputs": [
    {
     "name": "stdout",
     "output_type": "stream",
     "text": [
      "['Bookings', 'Facilities', 'Members']\n"
     ]
    }
   ],
   "source": [
    "table_names = inspect(engine).get_table_names()\n",
    "print(table_names)"
   ]
  },
  {
   "cell_type": "code",
   "execution_count": 247,
   "id": "c46f2d47-381a-4ae6-ab1f-ecc41c924b0d",
   "metadata": {},
   "outputs": [],
   "source": [
    "con = engine.connect()\n",
    "rs = con.execute(text(\"SELECT name, COUNT(bookid) FROM Bookings LEFT JOIN Facilities USING(facid) WHERE memid IN (1,2) GROUP BY name\"))\n",
    "df = pd.DataFrame(rs.fetchall())"
   ]
  },
  {
   "cell_type": "code",
   "execution_count": 249,
   "id": "ed309b8a-8665-454b-b22f-f8bf5b428e0d",
   "metadata": {},
   "outputs": [
    {
     "name": "stdout",
     "output_type": "stream",
     "text": [
      "              name  COUNT(bookid)\n",
      "0  Badminton Court            164\n",
      "1   Massage Room 1             34\n",
      "2       Pool Table             89\n",
      "3    Snooker Table             57\n",
      "4     Squash Court             20\n",
      "5     Table Tennis             56\n",
      "6   Tennis Court 1             30\n",
      "7   Tennis Court 2             21\n"
     ]
    }
   ],
   "source": [
    "print(df)"
   ]
  },
  {
   "cell_type": "code",
   "execution_count": 251,
   "id": "a45af099-9a12-4f76-b794-9788a106dca5",
   "metadata": {},
   "outputs": [],
   "source": [
    "df = pd.read_sql_query(\"SELECT name, COUNT(bookid) FROM Bookings LEFT JOIN Facilities USING(facid) WHERE memid IN (1,2) GROUP BY name\", engine)"
   ]
  },
  {
   "cell_type": "code",
   "execution_count": 253,
   "id": "01551808-d6da-446f-a97f-9e968e17d180",
   "metadata": {},
   "outputs": [
    {
     "name": "stdout",
     "output_type": "stream",
     "text": [
      "              name  COUNT(bookid)\n",
      "0  Badminton Court            164\n",
      "1   Massage Room 1             34\n",
      "2       Pool Table             89\n",
      "3    Snooker Table             57\n",
      "4     Squash Court             20\n",
      "5     Table Tennis             56\n",
      "6   Tennis Court 1             30\n",
      "7   Tennis Court 2             21\n"
     ]
    }
   ],
   "source": [
    "print(df)"
   ]
  },
  {
   "cell_type": "code",
   "execution_count": 255,
   "id": "18f26d69-67c0-495c-95c9-fe98a00c3232",
   "metadata": {},
   "outputs": [
    {
     "name": "stdout",
     "output_type": "stream",
     "text": [
      "              name  member_cost\n",
      "0  Badminton Court          0.0\n",
      "1   Massage Room 1        336.6\n",
      "2       Pool Table          0.0\n",
      "3    Snooker Table          0.0\n",
      "4     Squash Court         70.0\n",
      "5     Table Tennis          0.0\n",
      "6   Tennis Court 1        150.0\n",
      "7   Tennis Court 2        105.0\n"
     ]
    }
   ],
   "source": [
    "member_revenue = pd.read_sql_query(\"SELECT Facilities.name, (COUNT(bookid) * membercost) AS member_cost FROM Bookings LEFT JOIN Facilities USING(facid) WHERE Bookings.memid IN (1,2) GROUP BY name\", engine)\n",
    "print(member_revenue)"
   ]
  },
  {
   "cell_type": "code",
   "execution_count": 257,
   "id": "97ea5642-83df-453a-b091-305ef5f40c79",
   "metadata": {},
   "outputs": [
    {
     "name": "stdout",
     "output_type": "stream",
     "text": [
      "              name  guest_cost\n",
      "0  Badminton Court       604.5\n",
      "1   Massage Room 1     16640.0\n",
      "2   Massage Room 2      6720.0\n",
      "3       Pool Table       265.0\n",
      "4    Snooker Table       115.0\n",
      "5     Squash Court      4287.5\n",
      "6     Table Tennis        90.0\n",
      "7   Tennis Court 1      2500.0\n",
      "8   Tennis Court 2      2825.0\n"
     ]
    }
   ],
   "source": [
    "guest_revenue = pd.read_sql_query(\"SELECT Facilities.name, (COUNT(bookid) * guestcost) AS guest_cost FROM Bookings LEFT JOIN Facilities USING(facid) WHERE Bookings.memid = 0 GROUP BY name\", engine)\n",
    "print(guest_revenue)"
   ]
  },
  {
   "cell_type": "code",
   "execution_count": 259,
   "id": "a5e6eaea-4412-4ef9-9045-bbee66b76680",
   "metadata": {},
   "outputs": [
    {
     "name": "stdout",
     "output_type": "stream",
     "text": [
      "              name  member_cost  guest_cost\n",
      "0  Badminton Court          0.0       604.5\n",
      "1   Massage Room 1        336.6     16640.0\n",
      "2       Pool Table          0.0       265.0\n",
      "3    Snooker Table          0.0       115.0\n",
      "4     Squash Court         70.0      4287.5\n",
      "5     Table Tennis          0.0        90.0\n",
      "6   Tennis Court 1        150.0      2500.0\n",
      "7   Tennis Court 2        105.0      2825.0\n"
     ]
    }
   ],
   "source": [
    "all_revenue = pd.merge(member_revenue, guest_revenue, how='inner', on=None)\n",
    "print(all_revenue)"
   ]
  },
  {
   "cell_type": "code",
   "execution_count": 261,
   "id": "2cb1fa52-ba43-4610-8bf8-3e351f5f0896",
   "metadata": {},
   "outputs": [
    {
     "name": "stdout",
     "output_type": "stream",
     "text": [
      "              name  member_cost  guest_cost  total_revenue\n",
      "0  Badminton Court          0.0       604.5          604.5\n",
      "1   Massage Room 1        336.6     16640.0        16976.6\n",
      "2       Pool Table          0.0       265.0          265.0\n",
      "3    Snooker Table          0.0       115.0          115.0\n",
      "4     Squash Court         70.0      4287.5         4357.5\n",
      "5     Table Tennis          0.0        90.0           90.0\n",
      "6   Tennis Court 1        150.0      2500.0         2650.0\n",
      "7   Tennis Court 2        105.0      2825.0         2930.0\n"
     ]
    }
   ],
   "source": [
    "all_revenue.loc[:, 'total_revenue'] = all_revenue.sum(numeric_only=True, axis=1)\n",
    "print(all_revenue)"
   ]
  },
  {
   "cell_type": "code",
   "execution_count": 263,
   "id": "f02ca27c-45fc-4ae0-8943-181d9b0e90e3",
   "metadata": {},
   "outputs": [
    {
     "name": "stdout",
     "output_type": "stream",
     "text": [
      "              name  member_cost  guest_cost  total_revenue\n",
      "0  Badminton Court          0.0       604.5          604.5\n",
      "2       Pool Table          0.0       265.0          265.0\n",
      "3    Snooker Table          0.0       115.0          115.0\n",
      "5     Table Tennis          0.0        90.0           90.0\n"
     ]
    }
   ],
   "source": [
    "final_result_q10 = all_revenue[all_revenue['total_revenue'] < 1000]\n",
    "print(final_result_q10)"
   ]
  },
  {
   "cell_type": "code",
   "execution_count": 270,
   "id": "54d4f271-8127-430a-9887-8eb5c5ab59cd",
   "metadata": {},
   "outputs": [
    {
     "name": "stdout",
     "output_type": "stream",
     "text": [
      "                 member_name recommeneded_by\n",
      "0            Bader, Florence               9\n",
      "1                Baker, Anne               9\n",
      "2             Baker, Timothy              13\n",
      "3                Boothe, Tim               3\n",
      "4            Butters, Gerald               1\n",
      "5               Coplin, Joan              16\n",
      "6             Crumpet, Erica               2\n",
      "7                Dare, Nancy               4\n",
      "8            Farrell, Jemima                \n",
      "9             Farrell, David                \n",
      "10              GUEST, GUEST                \n",
      "11          Genting, Matthew               5\n",
      "12                Hunt, John              30\n",
      "13              Jones, David               4\n",
      "14            Jones, Douglas              11\n",
      "15          Joplette, Janice               1\n",
      "16           Mackenzie, Anna               1\n",
      "17             Owen, Charles               1\n",
      "18             Pinker, David              13\n",
      "19        Purview, Millicent               2\n",
      "20               Rownam, Tim                \n",
      "21         Rumney, Henrietta              20\n",
      "22         Sarwin, Ramnaresh              15\n",
      "23             Smith, Darren                \n",
      "24              Smith, Tracy                \n",
      "25               Smith, Jack               1\n",
      "26             Smith, Darren                \n",
      "27          Stibbons, Ponder               6\n",
      "28             Tracy, Burton                \n",
      "29      Tupperware, Hyacinth                \n",
      "30  Worthington-Smyth, Henry               2\n"
     ]
    }
   ],
   "source": [
    "member_report = pd.read_sql_query(\"SELECT CONCAT(surname, ', ', firstname) AS member_name, recommendedby AS recommeneded_by FROM Members ORDER BY surname\", engine)\n",
    "print(member_report)"
   ]
  },
  {
   "cell_type": "code",
   "execution_count": 275,
   "id": "5e4ea0d5-b5f7-4825-8389-d03377457940",
   "metadata": {},
   "outputs": [
    {
     "name": "stdout",
     "output_type": "stream",
     "text": [
      "          facility  usage_by_members\n",
      "0  Badminton Court               164\n",
      "1   Massage Room 1                34\n",
      "2       Pool Table                89\n",
      "3    Snooker Table                57\n",
      "4     Squash Court                20\n",
      "5     Table Tennis                56\n",
      "6   Tennis Court 1                30\n",
      "7   Tennis Court 2                21\n"
     ]
    }
   ],
   "source": [
    "usage_by_member = pd.read_sql_query(\"SELECT Facilities.name AS facility, COUNT(Bookings.bookid) AS usage_by_members FROM Bookings LEFT JOIN Facilities USING(facid) WHERE memid IN (1,2) GROUP BY Facilities.name\", engine)\n",
    "print(usage_by_member)"
   ]
  },
  {
   "cell_type": "code",
   "execution_count": 278,
   "id": "f717aa7d-d975-42a2-940f-33a6ccb06d9e",
   "metadata": {},
   "outputs": [
    {
     "name": "stdout",
     "output_type": "stream",
     "text": [
      "          facility  usage_by_month\n",
      "0  Badminton Court              50\n",
      "1   Massage Room 1            3000\n",
      "2       Pool Table              15\n",
      "3    Snooker Table              15\n",
      "4     Squash Court              80\n",
      "5     Table Tennis              10\n",
      "6   Tennis Court 1             200\n",
      "7   Tennis Court 2             200\n"
     ]
    }
   ],
   "source": [
    "usage_by_month = pd.read_sql_query(\"SELECT Facilities.name AS facility, monthlymaintenance AS usage_by_month FROM Bookings LEFT JOIN Facilities USING(facid) WHERE memid IN (1,2) GROUP BY Facilities.name\", engine)\n",
    "print(usage_by_month)"
   ]
  },
  {
   "cell_type": "code",
   "execution_count": null,
   "id": "482e8fb3-e580-40fb-877a-1c630bd84710",
   "metadata": {},
   "outputs": [],
   "source": []
  }
 ],
 "metadata": {
  "kernelspec": {
   "display_name": "Python 3 (ipykernel)",
   "language": "python",
   "name": "python3"
  },
  "language_info": {
   "codemirror_mode": {
    "name": "ipython",
    "version": 3
   },
   "file_extension": ".py",
   "mimetype": "text/x-python",
   "name": "python",
   "nbconvert_exporter": "python",
   "pygments_lexer": "ipython3",
   "version": "3.12.4"
  }
 },
 "nbformat": 4,
 "nbformat_minor": 5
}
